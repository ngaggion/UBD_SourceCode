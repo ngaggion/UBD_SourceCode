{
 "cells": [
  {
   "cell_type": "code",
   "execution_count": 1,
   "metadata": {},
   "outputs": [
    {
     "data": {
      "text/html": [
       "<div>\n",
       "<style scoped>\n",
       "    .dataframe tbody tr th:only-of-type {\n",
       "        vertical-align: middle;\n",
       "    }\n",
       "\n",
       "    .dataframe tbody tr th {\n",
       "        vertical-align: top;\n",
       "    }\n",
       "\n",
       "    .dataframe thead th {\n",
       "        text-align: right;\n",
       "    }\n",
       "</style>\n",
       "<table border=\"1\" class=\"dataframe\">\n",
       "  <thead>\n",
       "    <tr style=\"text-align: right;\">\n",
       "      <th></th>\n",
       "      <th>File</th>\n",
       "      <th>Dataset</th>\n",
       "      <th>Lung Annotations</th>\n",
       "      <th>Heart Annotations</th>\n",
       "      <th>Sex</th>\n",
       "      <th>Age</th>\n",
       "      <th>Condition</th>\n",
       "    </tr>\n",
       "  </thead>\n",
       "  <tbody>\n",
       "    <tr>\n",
       "      <th>0</th>\n",
       "      <td>1256842362861431725328351539259305635_u1qifz.png</td>\n",
       "      <td>Padchest</td>\n",
       "      <td>True</td>\n",
       "      <td>True</td>\n",
       "      <td>M</td>\n",
       "      <td>90</td>\n",
       "      <td>['aortic elongation', 'vertebral degenerative ...</td>\n",
       "    </tr>\n",
       "    <tr>\n",
       "      <th>1</th>\n",
       "      <td>10155709300728342918543955138521808206_f7cj92.png</td>\n",
       "      <td>Padchest</td>\n",
       "      <td>True</td>\n",
       "      <td>True</td>\n",
       "      <td>F</td>\n",
       "      <td>79</td>\n",
       "      <td>['nodule', 'pleural effusion', 'chronic change...</td>\n",
       "    </tr>\n",
       "    <tr>\n",
       "      <th>2</th>\n",
       "      <td>10287653421930576798556842610982533460_vpbhw6.png</td>\n",
       "      <td>Padchest</td>\n",
       "      <td>True</td>\n",
       "      <td>True</td>\n",
       "      <td>F</td>\n",
       "      <td>71</td>\n",
       "      <td>['diaphragmatic eventration', 'cardiomegaly']</td>\n",
       "    </tr>\n",
       "    <tr>\n",
       "      <th>3</th>\n",
       "      <td>10383960670432673238945376919735423432_hd3moq.png</td>\n",
       "      <td>Padchest</td>\n",
       "      <td>True</td>\n",
       "      <td>True</td>\n",
       "      <td>M</td>\n",
       "      <td>79</td>\n",
       "      <td>['cardiomegaly']</td>\n",
       "    </tr>\n",
       "    <tr>\n",
       "      <th>4</th>\n",
       "      <td>10996416492353037588312781035930080694_8rstz0.png</td>\n",
       "      <td>Padchest</td>\n",
       "      <td>True</td>\n",
       "      <td>True</td>\n",
       "      <td>F</td>\n",
       "      <td>85</td>\n",
       "      <td>['pacemaker', 'cardiomegaly']</td>\n",
       "    </tr>\n",
       "  </tbody>\n",
       "</table>\n",
       "</div>"
      ],
      "text/plain": [
       "                                                File   Dataset  \\\n",
       "0   1256842362861431725328351539259305635_u1qifz.png  Padchest   \n",
       "1  10155709300728342918543955138521808206_f7cj92.png  Padchest   \n",
       "2  10287653421930576798556842610982533460_vpbhw6.png  Padchest   \n",
       "3  10383960670432673238945376919735423432_hd3moq.png  Padchest   \n",
       "4  10996416492353037588312781035930080694_8rstz0.png  Padchest   \n",
       "\n",
       "   Lung Annotations  Heart Annotations Sex  Age  \\\n",
       "0              True               True   M   90   \n",
       "1              True               True   F   79   \n",
       "2              True               True   F   71   \n",
       "3              True               True   M   79   \n",
       "4              True               True   F   85   \n",
       "\n",
       "                                           Condition  \n",
       "0  ['aortic elongation', 'vertebral degenerative ...  \n",
       "1  ['nodule', 'pleural effusion', 'chronic change...  \n",
       "2      ['diaphragmatic eventration', 'cardiomegaly']  \n",
       "3                                   ['cardiomegaly']  \n",
       "4                      ['pacemaker', 'cardiomegaly']  "
      ]
     },
     "execution_count": 1,
     "metadata": {},
     "output_type": "execute_result"
    }
   ],
   "source": [
    "import pandas as pd \n",
    "\n",
    "\n",
    "path = \"../Chest-xray-landmark-dataset/clinical.csv\"\n",
    "\n",
    "df = pd.read_csv(path)\n",
    "\n",
    "df.head()"
   ]
  },
  {
   "cell_type": "code",
   "execution_count": 2,
   "metadata": {},
   "outputs": [],
   "source": [
    "path1 = \"splits/train_images_lungs.txt\"\n",
    "\n",
    "lungs = pd.read_csv(path1, header=None)\n",
    "lungs.columns = [\"File\"]\n",
    "\n",
    "path2 = \"splits/train_images_heart.txt\"\n",
    "\n",
    "heart = pd.read_csv(path2, header=None)\n",
    "heart.columns = [\"File\"]\n",
    "\n",
    "# Combine the two dataframes with the clinical data\n",
    "\n",
    "lungs = pd.merge(lungs, df, on=\"File\")\n",
    "heart = pd.merge(heart, df, on=\"File\")"
   ]
  },
  {
   "cell_type": "code",
   "execution_count": 3,
   "metadata": {},
   "outputs": [
    {
     "name": "stdout",
     "output_type": "stream",
     "text": [
      "Lungs M:  254\n",
      "Lungs F:  169\n",
      "Heart M:  140\n",
      "Heart F:  167\n"
     ]
    }
   ],
   "source": [
    "# Separate between M and F, using Sex column\n",
    "\n",
    "lungs_M = lungs[lungs[\"Sex\"] == \"M\"]\n",
    "lungs_F = lungs[lungs[\"Sex\"] == \"F\"]\n",
    "\n",
    "heart_M = heart[heart[\"Sex\"]==\"M\"]\n",
    "heart_F = heart[heart[\"Sex\"]==\"F\"]\n",
    "\n",
    "# print the number of each set\n",
    "print(\"Lungs M: \", len(lungs_M))\n",
    "print(\"Lungs F: \", len(lungs_F))\n",
    "print(\"Heart M: \", len(heart_M))\n",
    "print(\"Heart F: \", len(heart_F))"
   ]
  },
  {
   "cell_type": "code",
   "execution_count": 4,
   "metadata": {},
   "outputs": [],
   "source": [
    "# save the first column of each dataframe as a list on a txt file\n",
    "lungs_M.to_csv(\"splits/train_images_lungs_M.txt\", columns=[\"File\"], header=None, index=None)\n",
    "lungs_F.to_csv(\"splits/train_images_lungs_F.txt\", columns=[\"File\"], header=None, index=None)\n",
    "heart_M.to_csv(\"splits/train_images_heart_M.txt\", columns=[\"File\"], header=None, index=None)\n",
    "heart_F.to_csv(\"splits/train_images_heart_F.txt\", columns=[\"File\"], header=None, index=None)"
   ]
  }
 ],
 "metadata": {
  "kernelspec": {
   "display_name": "torch",
   "language": "python",
   "name": "python3"
  },
  "language_info": {
   "codemirror_mode": {
    "name": "ipython",
    "version": 3
   },
   "file_extension": ".py",
   "mimetype": "text/x-python",
   "name": "python",
   "nbconvert_exporter": "python",
   "pygments_lexer": "ipython3",
   "version": "3.9.7"
  },
  "orig_nbformat": 4
 },
 "nbformat": 4,
 "nbformat_minor": 2
}
